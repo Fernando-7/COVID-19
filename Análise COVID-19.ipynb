{
 "cells": [
  {
   "cell_type": "code",
   "execution_count": 1,
   "id": "2ec05be6",
   "metadata": {},
   "outputs": [],
   "source": [
    "import pandas as pd\n",
    "import numpy as np\n",
    "import unidecode\n",
    "import re"
   ]
  },
  {
   "cell_type": "code",
   "execution_count": 2,
   "id": "cbb8f63c",
   "metadata": {},
   "outputs": [],
   "source": [
    "# importar os dados csv para pandas dataframe\n",
    "cvd_2020_1 = pd.read_csv('dados/2020_1.csv',delimiter=';')\n",
    "cvd_2020_2 = pd.read_csv('dados/2020_2.csv',delimiter=';')\n",
    "cvd_2021_1 = pd.read_csv('dados/2020_2.csv',delimiter=';')\n",
    "cvd_2021_2 = pd.read_csv('dados/2020_2.csv',delimiter=';')\n",
    "cvd_2022_1 = pd.read_csv('dados/2020_2.csv',delimiter=';')"
   ]
  },
  {
   "cell_type": "markdown",
   "id": "e5d81938",
   "metadata": {},
   "source": [
    "#### Explorando e Tratando os Dados da Covid do período 2020.1"
   ]
  },
  {
   "cell_type": "code",
   "execution_count": 3,
   "id": "b3046c3d",
   "metadata": {},
   "outputs": [
    {
     "name": "stdout",
     "output_type": "stream",
     "text": [
      "regiao :  0.0\n",
      "estado :  0.0\n",
      "municipio :  0.0\n",
      "coduf :  0.0\n",
      "codmun :  0.0\n",
      "codRegiaoSaude :  0.0\n",
      "nomeRegiaoSaude :  0.0\n",
      "data :  0.0\n",
      "semanaEpi :  0.0\n",
      "populacaoTCU2019 :  0.0\n",
      "casosAcumulado :  0.0\n",
      "casosNovos :  0.0\n",
      "obitosAcumulado :  0.0\n",
      "obitosNovos :  0.0\n",
      "Recuperadosnovos :  0.0\n",
      "emAcompanhamentoNovos :  0.0\n",
      "interior/metropolitana :  1.0045230125054578\n"
     ]
    }
   ],
   "source": [
    "# identificar porcentagem dos valores propriamente categorizados como NaN para cada coluna\n",
    "for collumn in list(cvd_2020_1.columns):\n",
    "    porcentagem = ((cvd_2020_1[collumn].isna().sum()/len(cvd_2020_1[collumn]))*100)\n",
    "    print(collumn,\": \",porcentagem)"
   ]
  },
  {
   "cell_type": "markdown",
   "id": "c3d70399",
   "metadata": {},
   "source": [
    "**Foi identificado valores faltantes na variável 'interior/metropolitana', sendo esses preenchidos com valor NaN. Para resolver isso será realizado imputação de valores com base na variável município, ou seja se a cidade localizada na variável for do interior a variável 'interior/metropolitana' receberá 0 senão receberá 1. Abaixo segue a lista das cidades metrópoles mapeadas visando identificar no dataset as mesmas, sendo que para isso será feita transformações no dado em relação a formatação das strings**"
   ]
  },
  {
   "cell_type": "code",
   "execution_count": 4,
   "id": "64b18e19",
   "metadata": {},
   "outputs": [],
   "source": [
    "metropolitanas = ['Goiânia','Cuiabá','Macapá','Manaus','Belém','Santarém','Porto Velho','Boa Vista',\n",
    "                  'Caracaraí','Caroebe','Palmas','Gurupi','Vitória','Belo Horizonte','Rio de Janeiro',\n",
    "                  'Santos','Campinas','Jundiaí','Piracicaba','Ribeirão Preto','São José do Rio Preto',\n",
    "                  'São Paulo','Sorocaba','São José dos Campos','Arapiraca','São Miguel dos Campos',\n",
    "                  'Maceió','Santana do Ipanema','Palmeira dos Índios','Penedo','Delmiro Gouveia',\n",
    "                  'Viçosa','União dos Palmares','Feira de Santana','Salvador','Juazeiro do Norte',\n",
    "                  'Fortaleza','Sobral','São Luís','Imperatriz','Araruna','Barra de Santa Rosa',\n",
    "                  'Cajazeiras','Campina Grande','Esperança','Guarabira','Itabaiana','João Pessoa',\n",
    "                  'Patos','Sousa','Mamanguape','Piancó','Recife','Natal','Aracaju','Apucarana',\n",
    "                  'Campo Mourão','Cascavel','Curitiba','Londrina','Maringá','\tToledo','Umuarama',\n",
    "                  'Rio do Sul','Criciúma','Chapecó','Joaçaba','São Miguel do Oeste','Florianópolis',\n",
    "                  'Itajaí','Lages','Joinville','Tubarão','Blumenau','Porto Alegre','Caxias do Sul']\n",
    "for value in range(len(metropolitanas)):\n",
    "    metropolitanas[value] = re.sub('\\W+','',unidecode.unidecode(metropolitanas[value].lower()))"
   ]
  },
  {
   "cell_type": "markdown",
   "id": "22ee7447",
   "metadata": {},
   "source": [
    "**Abaixo será verificado qual valor binário da variável 'interior/metropolitana' está associado a cidades metropolitanas, para isso utilizamos uma amostra do dataset somente de cidades metropolitanas selecionadas, se a divisão da soma dos valores da viaríavel 'interior/metropolitana' pelo tamanho da amostra for igual a 1, iremos inferir 1 a todos os valores onde o município se localize em zona metropolitana**"
   ]
  },
  {
   "cell_type": "code",
   "execution_count": 28,
   "id": "0126bf3b",
   "metadata": {},
   "outputs": [
    {
     "data": {
      "text/plain": [
       "True"
      ]
     },
     "execution_count": 28,
     "metadata": {},
     "output_type": "execute_result"
    }
   ],
   "source": [
    "# identificamos que 1 é para metrópoles e 0 para cidades do interior\n",
    "count_metropolis = cvd_2020_1[(cvd_2020_1['municipio'] == 'Salvador') | (cvd_2020_1['municipio'] == 'São Paulo') | (cvd_2020_1['municipio'] == 'Goiânia')]\n",
    "len(count_metropolis['interior/metropolitana']) == count_metropolis['interior/metropolitana'].sum()"
   ]
  },
  {
   "cell_type": "markdown",
   "id": "62c39425",
   "metadata": {},
   "source": [
    "**Aqui será criado um novo atributo com base na variável 'municipio', removendo a ascentuação, removendo espaços e transoformando os caracteres para minúsculos, pois iremos fazer algumas comparações com a lista de metrópoles acima para imputação dos valores faltantes na variável 'interior/metropolitana'**"
   ]
  },
  {
   "cell_type": "code",
   "execution_count": 5,
   "id": "06b43d0f",
   "metadata": {},
   "outputs": [],
   "source": [
    "cvd_2020_1['temp_municipio'] = cvd_2020_1['municipio'].str.lower()\n",
    "cvd_2020_1['temp_municipio'] = [re.sub('\\W+','',unidecode.unidecode(value)) for value in cvd_2020_1['temp_municipio']] "
   ]
  },
  {
   "cell_type": "markdown",
   "id": "6b499d2c",
   "metadata": {},
   "source": [
    "**Aqui de fato fazemos a imputação nos valores faltantes levando em consideração o tipo de município e a lista que foi criada com as nomenclaturas das metrópoles**"
   ]
  },
  {
   "cell_type": "code",
   "execution_count": null,
   "id": "cff03ffc",
   "metadata": {},
   "outputs": [],
   "source": [
    "cvd_2020_1['interior/metropolitana'] = np.where((np.isnan(cvd_2020_1['interior/metropolitana'])) & ~(cvd_2020_1['temp_municipio'].isin(metropolitanas)),0,cvd_2020_1['interior/metropolitana'])\n",
    "cvd_2020_1['interior/metropolitana'] = np.where((np.isnan(cvd_2020_1['interior/metropolitana'])) & (cvd_2020_1['temp_municipio'].isin(metropolitanas)),1,cvd_2020_1['interior/metropolitana'])"
   ]
  },
  {
   "cell_type": "code",
   "execution_count": null,
   "id": "57c818d2",
   "metadata": {},
   "outputs": [],
   "source": []
  }
 ],
 "metadata": {
  "kernelspec": {
   "display_name": "Python 3 (ipykernel)",
   "language": "python",
   "name": "python3"
  },
  "language_info": {
   "codemirror_mode": {
    "name": "ipython",
    "version": 3
   },
   "file_extension": ".py",
   "mimetype": "text/x-python",
   "name": "python",
   "nbconvert_exporter": "python",
   "pygments_lexer": "ipython3",
   "version": "3.9.7"
  }
 },
 "nbformat": 4,
 "nbformat_minor": 5
}
