{
 "cells": [
  {
   "cell_type": "code",
   "execution_count": 54,
   "id": "2ec05be6",
   "metadata": {},
   "outputs": [],
   "source": [
    "import pandas as pd\n",
    "import numpy as np\n",
    "import unidecode\n",
    "import seaborn as sns\n",
    "import re"
   ]
  },
  {
   "cell_type": "code",
   "execution_count": 55,
   "id": "cbb8f63c",
   "metadata": {},
   "outputs": [],
   "source": [
    "# importar os dados csv para pandas dataframe\n",
    "cvd_2020_1 = pd.read_csv('dados/2020_1.csv',delimiter=';')\n",
    "cvd_2021_1 = pd.read_csv('dados/2021_1.csv',delimiter=';')\n",
    "cvd_2022_1 = pd.read_csv('dados/2022_1.csv',delimiter=';')"
   ]
  },
  {
   "cell_type": "markdown",
   "id": "2b6720cf",
   "metadata": {},
   "source": [
    "#### Explorando e Tratando os Dados da Covid do período 2020.1"
   ]
  },
  {
   "cell_type": "code",
   "execution_count": 56,
   "id": "d99330fd",
   "metadata": {},
   "outputs": [
    {
     "data": {
      "text/plain": [
       "714568"
      ]
     },
     "execution_count": 56,
     "metadata": {},
     "output_type": "execute_result"
    }
   ],
   "source": [
    "len(cvd_2020_1)"
   ]
  },
  {
   "cell_type": "code",
   "execution_count": 57,
   "id": "7d9bf9b0",
   "metadata": {},
   "outputs": [
    {
     "data": {
      "text/plain": [
       "1017220"
      ]
     },
     "execution_count": 57,
     "metadata": {},
     "output_type": "execute_result"
    }
   ],
   "source": [
    "len(cvd_2021_1)"
   ]
  },
  {
   "cell_type": "code",
   "execution_count": 58,
   "id": "5360524e",
   "metadata": {},
   "outputs": [
    {
     "data": {
      "text/plain": [
       "516950"
      ]
     },
     "execution_count": 58,
     "metadata": {},
     "output_type": "execute_result"
    }
   ],
   "source": [
    "len(cvd_2022_1)"
   ]
  },
  {
   "cell_type": "code",
   "execution_count": 59,
   "id": "fc1a782d",
   "metadata": {},
   "outputs": [
    {
     "name": "stdout",
     "output_type": "stream",
     "text": [
      "regiao :  0.0\n",
      "estado :  0.0\n",
      "municipio :  0.0\n",
      "coduf :  0.0\n",
      "codmun :  0.0\n",
      "codRegiaoSaude :  0.0\n",
      "nomeRegiaoSaude :  0.0\n",
      "data :  0.0\n",
      "semanaEpi :  0.0\n",
      "populacaoTCU2019 :  0.0\n",
      "casosAcumulado :  0.0\n",
      "casosNovos :  0.0\n",
      "obitosAcumulado :  0.0\n",
      "obitosNovos :  0.0\n",
      "Recuperadosnovos :  0.0\n",
      "emAcompanhamentoNovos :  0.0\n",
      "interior/metropolitana :  1.0045230125054578\n"
     ]
    }
   ],
   "source": [
    "# identificar porcentagem dos valores propriamente categorizados como NaN para cada coluna\n",
    "for collumn in list(cvd_2020_1.columns):\n",
    "    porcentagem = ((cvd_2020_1[collumn].isna().sum()/len(cvd_2020_1[collumn]))*100)\n",
    "    print(collumn,\": \",porcentagem)"
   ]
  },
  {
   "cell_type": "markdown",
   "id": "b5a8aa7d",
   "metadata": {},
   "source": [
    "**Foi identificado valores faltantes na variável 'interior/metropolitana', sendo esses preenchidos com valor NaN. Para resolver isso, será realizado imputação de valores com base na variável município, ou seja, se a cidade localizada na variável for do interior a variável 'interior/metropolitana' receberá 0 senão receberá 1. Abaixo segue a lista das cidades metrópoles mapeadas visando identificar no dataset as mesmas, sendo que para isso será feita transformações no dado em relação a formatação das strings**"
   ]
  },
  {
   "cell_type": "code",
   "execution_count": 60,
   "id": "626b11e7",
   "metadata": {},
   "outputs": [],
   "source": [
    "metropolitanas = ['Goiânia','Cuiabá','Macapá','Manaus','Belém','Santarém','Porto Velho','Boa Vista',\n",
    "                  'Caracaraí','Caroebe','Palmas','Gurupi','Vitória','Belo Horizonte','Rio de Janeiro',\n",
    "                  'Santos','Campinas','Jundiaí','Piracicaba','Ribeirão Preto','São José do Rio Preto',\n",
    "                  'São Paulo','Sorocaba','São José dos Campos','Arapiraca','São Miguel dos Campos',\n",
    "                  'Maceió','Santana do Ipanema','Palmeira dos Índios','Penedo','Delmiro Gouveia',\n",
    "                  'Viçosa','União dos Palmares','Feira de Santana','Salvador','Juazeiro do Norte',\n",
    "                  'Fortaleza','Sobral','São Luís','Imperatriz','Araruna','Barra de Santa Rosa',\n",
    "                  'Cajazeiras','Campina Grande','Esperança','Guarabira','Itabaiana','João Pessoa',\n",
    "                  'Patos','Sousa','Mamanguape','Piancó','Recife','Natal','Aracaju','Apucarana',\n",
    "                  'Campo Mourão','Cascavel','Curitiba','Londrina','Maringá','\tToledo','Umuarama',\n",
    "                  'Rio do Sul','Criciúma','Chapecó','Joaçaba','São Miguel do Oeste','Florianópolis',\n",
    "                  'Itajaí','Lages','Joinville','Tubarão','Blumenau','Porto Alegre','Caxias do Sul']\n",
    "for value in range(len(metropolitanas)):\n",
    "    metropolitanas[value] = re.sub('\\W+','',unidecode.unidecode(metropolitanas[value].lower()))"
   ]
  },
  {
   "cell_type": "markdown",
   "id": "ffbb2a27",
   "metadata": {},
   "source": [
    "**Abaixo será verificado qual valor binário da variável 'interior/metropolitana' está associado a cidades metropolitanas, para isso utilizamos uma amostra do dataset somente de cidades metropolitanas selecionadas, se a divisão da soma dos valores da viaríavel 'interior/metropolitana' pelo tamanho da amostra for igual a 1, iremos inferir 1 a todos os valores onde o município se localize em zona metropolitana**"
   ]
  },
  {
   "cell_type": "code",
   "execution_count": 61,
   "id": "eb01d456",
   "metadata": {},
   "outputs": [
    {
     "data": {
      "text/plain": [
       "True"
      ]
     },
     "execution_count": 61,
     "metadata": {},
     "output_type": "execute_result"
    }
   ],
   "source": [
    "# identificamos que 1 é para metrópoles e 0 para cidades do interior\n",
    "count_metropolis = cvd_2020_1[(cvd_2020_1['municipio'] == 'Salvador') | (cvd_2020_1['municipio'] == 'São Paulo') | (cvd_2020_1['municipio'] == 'Goiânia')]\n",
    "len(count_metropolis['interior/metropolitana']) == count_metropolis['interior/metropolitana'].sum()"
   ]
  },
  {
   "cell_type": "markdown",
   "id": "ea813bf8",
   "metadata": {},
   "source": [
    "**Aqui será criado um novo atributo com base na variável 'municipio', removendo a ascentuação, removendo espaços e transoformando os caracteres para minúsculos, pois iremos fazer algumas comparações com a lista de metrópoles acima para imputação dos valores faltantes na variável 'interior/metropolitana'**"
   ]
  },
  {
   "cell_type": "code",
   "execution_count": 62,
   "id": "233abba1",
   "metadata": {},
   "outputs": [],
   "source": [
    "cvd_2020_1['temp_municipio'] = cvd_2020_1['municipio'].str.lower()\n",
    "cvd_2020_1['temp_municipio'] = [re.sub('\\W+','',unidecode.unidecode(value)) for value in cvd_2020_1['temp_municipio']] "
   ]
  },
  {
   "cell_type": "markdown",
   "id": "1174f1fe",
   "metadata": {},
   "source": [
    "**Aqui de fato fazemos a imputação nos valores faltantes levando em consideração o tipo de município e a lista que foi criada com as nomenclaturas das metrópoles**"
   ]
  },
  {
   "cell_type": "code",
   "execution_count": 63,
   "id": "6bfd4c4d",
   "metadata": {},
   "outputs": [],
   "source": [
    "cvd_2020_1['interior/metropolitana'] = np.where((np.isnan(cvd_2020_1['interior/metropolitana'])) & ~(cvd_2020_1['temp_municipio'].isin(metropolitanas)),0,cvd_2020_1['interior/metropolitana'])\n",
    "cvd_2020_1['interior/metropolitana'] = np.where((np.isnan(cvd_2020_1['interior/metropolitana'])) & (cvd_2020_1['temp_municipio'].isin(metropolitanas)),1,cvd_2020_1['interior/metropolitana'])"
   ]
  },
  {
   "cell_type": "code",
   "execution_count": 64,
   "id": "761ddec1",
   "metadata": {},
   "outputs": [
    {
     "data": {
      "text/html": [
       "<div>\n",
       "<style scoped>\n",
       "    .dataframe tbody tr th:only-of-type {\n",
       "        vertical-align: middle;\n",
       "    }\n",
       "\n",
       "    .dataframe tbody tr th {\n",
       "        vertical-align: top;\n",
       "    }\n",
       "\n",
       "    .dataframe thead th {\n",
       "        text-align: right;\n",
       "    }\n",
       "</style>\n",
       "<table border=\"1\" class=\"dataframe\">\n",
       "  <thead>\n",
       "    <tr style=\"text-align: right;\">\n",
       "      <th></th>\n",
       "      <th>regiao</th>\n",
       "      <th>estado</th>\n",
       "      <th>municipio</th>\n",
       "      <th>coduf</th>\n",
       "      <th>codmun</th>\n",
       "      <th>codRegiaoSaude</th>\n",
       "      <th>nomeRegiaoSaude</th>\n",
       "      <th>data</th>\n",
       "      <th>semanaEpi</th>\n",
       "      <th>populacaoTCU2019</th>\n",
       "      <th>casosAcumulado</th>\n",
       "      <th>casosNovos</th>\n",
       "      <th>obitosAcumulado</th>\n",
       "      <th>obitosNovos</th>\n",
       "      <th>Recuperadosnovos</th>\n",
       "      <th>emAcompanhamentoNovos</th>\n",
       "      <th>interior/metropolitana</th>\n",
       "    </tr>\n",
       "  </thead>\n",
       "  <tbody>\n",
       "    <tr>\n",
       "      <th>0</th>\n",
       "      <td>Brasil</td>\n",
       "      <td>0</td>\n",
       "      <td>0</td>\n",
       "      <td>76</td>\n",
       "      <td>0</td>\n",
       "      <td>0</td>\n",
       "      <td>0</td>\n",
       "      <td>2020-02-25</td>\n",
       "      <td>9</td>\n",
       "      <td>210147125</td>\n",
       "      <td>0</td>\n",
       "      <td>0</td>\n",
       "      <td>0</td>\n",
       "      <td>0</td>\n",
       "      <td>0</td>\n",
       "      <td>0</td>\n",
       "      <td>0.0</td>\n",
       "    </tr>\n",
       "    <tr>\n",
       "      <th>1</th>\n",
       "      <td>Brasil</td>\n",
       "      <td>0</td>\n",
       "      <td>0</td>\n",
       "      <td>76</td>\n",
       "      <td>0</td>\n",
       "      <td>0</td>\n",
       "      <td>0</td>\n",
       "      <td>2020-02-26</td>\n",
       "      <td>9</td>\n",
       "      <td>210147125</td>\n",
       "      <td>1</td>\n",
       "      <td>1</td>\n",
       "      <td>0</td>\n",
       "      <td>0</td>\n",
       "      <td>1</td>\n",
       "      <td>0</td>\n",
       "      <td>0.0</td>\n",
       "    </tr>\n",
       "    <tr>\n",
       "      <th>2</th>\n",
       "      <td>Brasil</td>\n",
       "      <td>0</td>\n",
       "      <td>0</td>\n",
       "      <td>76</td>\n",
       "      <td>0</td>\n",
       "      <td>0</td>\n",
       "      <td>0</td>\n",
       "      <td>2020-02-27</td>\n",
       "      <td>9</td>\n",
       "      <td>210147125</td>\n",
       "      <td>1</td>\n",
       "      <td>0</td>\n",
       "      <td>0</td>\n",
       "      <td>0</td>\n",
       "      <td>1</td>\n",
       "      <td>0</td>\n",
       "      <td>0.0</td>\n",
       "    </tr>\n",
       "    <tr>\n",
       "      <th>3</th>\n",
       "      <td>Brasil</td>\n",
       "      <td>0</td>\n",
       "      <td>0</td>\n",
       "      <td>76</td>\n",
       "      <td>0</td>\n",
       "      <td>0</td>\n",
       "      <td>0</td>\n",
       "      <td>2020-02-28</td>\n",
       "      <td>9</td>\n",
       "      <td>210147125</td>\n",
       "      <td>1</td>\n",
       "      <td>0</td>\n",
       "      <td>0</td>\n",
       "      <td>0</td>\n",
       "      <td>0</td>\n",
       "      <td>1</td>\n",
       "      <td>0.0</td>\n",
       "    </tr>\n",
       "    <tr>\n",
       "      <th>4</th>\n",
       "      <td>Brasil</td>\n",
       "      <td>0</td>\n",
       "      <td>0</td>\n",
       "      <td>76</td>\n",
       "      <td>0</td>\n",
       "      <td>0</td>\n",
       "      <td>0</td>\n",
       "      <td>2020-02-29</td>\n",
       "      <td>9</td>\n",
       "      <td>210147125</td>\n",
       "      <td>2</td>\n",
       "      <td>1</td>\n",
       "      <td>0</td>\n",
       "      <td>0</td>\n",
       "      <td>1</td>\n",
       "      <td>1</td>\n",
       "      <td>0.0</td>\n",
       "    </tr>\n",
       "  </tbody>\n",
       "</table>\n",
       "</div>"
      ],
      "text/plain": [
       "   regiao estado municipio  coduf  codmun  codRegiaoSaude nomeRegiaoSaude  \\\n",
       "0  Brasil      0         0     76       0               0               0   \n",
       "1  Brasil      0         0     76       0               0               0   \n",
       "2  Brasil      0         0     76       0               0               0   \n",
       "3  Brasil      0         0     76       0               0               0   \n",
       "4  Brasil      0         0     76       0               0               0   \n",
       "\n",
       "         data  semanaEpi  populacaoTCU2019  casosAcumulado  casosNovos  \\\n",
       "0  2020-02-25          9         210147125               0           0   \n",
       "1  2020-02-26          9         210147125               1           1   \n",
       "2  2020-02-27          9         210147125               1           0   \n",
       "3  2020-02-28          9         210147125               1           0   \n",
       "4  2020-02-29          9         210147125               2           1   \n",
       "\n",
       "   obitosAcumulado  obitosNovos  Recuperadosnovos  emAcompanhamentoNovos  \\\n",
       "0                0            0                 0                      0   \n",
       "1                0            0                 1                      0   \n",
       "2                0            0                 1                      0   \n",
       "3                0            0                 0                      1   \n",
       "4                0            0                 1                      1   \n",
       "\n",
       "   interior/metropolitana  \n",
       "0                     0.0  \n",
       "1                     0.0  \n",
       "2                     0.0  \n",
       "3                     0.0  \n",
       "4                     0.0  "
      ]
     },
     "execution_count": 64,
     "metadata": {},
     "output_type": "execute_result"
    }
   ],
   "source": [
    "# Remoção do atributo 'temp_municipio'\n",
    "cvd_2020_1.drop('temp_municipio',axis = 1, inplace=True)\n",
    "cvd_2020_1.head()"
   ]
  },
  {
   "cell_type": "code",
   "execution_count": 65,
   "id": "88474d50",
   "metadata": {},
   "outputs": [
    {
     "data": {
      "text/plain": [
       "0        2667\n",
       "5237      635\n",
       "4573      508\n",
       "3203      508\n",
       "11019     508\n",
       "         ... \n",
       "5714      127\n",
       "13865     127\n",
       "31603     127\n",
       "20598     127\n",
       "5821      127\n",
       "Name: populacaoTCU2019, Length: 5105, dtype: int64"
      ]
     },
     "execution_count": 65,
     "metadata": {},
     "output_type": "execute_result"
    }
   ],
   "source": [
    "cvd_2020_1['populacaoTCU2019'].value_counts()"
   ]
  },
  {
   "cell_type": "markdown",
   "id": "26b6b6ac",
   "metadata": {},
   "source": [
    "**Apesar de realizarmos o tratamento dos valores NaN, foi identificado que alguns atributos possuem valores faltantes preenchidos com o valor 0, pensando nisso, foi mapeado e analisado em percentual a quantidade de valores faltantes do nosso dataset**"
   ]
  },
  {
   "cell_type": "code",
   "execution_count": 66,
   "id": "a758eb13",
   "metadata": {},
   "outputs": [
    {
     "name": "stdout",
     "output_type": "stream",
     "text": [
      "0.37323249851658624 1.0045230125054578 0.03428644999496199 1.0045230125054578 1.0045230125054578\n"
     ]
    }
   ],
   "source": [
    "populacaoTCU2019 = (len(cvd_2020_1.query(\"populacaoTCU2019 == 0\")) / len(cvd_2020_1)) * 100\n",
    "municipio = (len(cvd_2020_1.query(\"municipio == '0'\")) / len(cvd_2020_1)) * 100\n",
    "estado = (len(cvd_2020_1.query(\"estado == '0'\")) / len(cvd_2020_1)) * 100\n",
    "codRegiaoSaude = (len(cvd_2020_1.query(\"codRegiaoSaude == 0\")) / len(cvd_2020_1)) * 100\n",
    "nomeRegiaoSaude = (len(cvd_2020_1.query(\"nomeRegiaoSaude == '0'\")) / len(cvd_2020_1)) * 100\n",
    "\n",
    "print(populacaoTCU2019, municipio, estado, codRegiaoSaude, nomeRegiaoSaude)"
   ]
  },
  {
   "cell_type": "markdown",
   "id": "462378f4",
   "metadata": {},
   "source": [
    "**Com base nas porcentagens das variáveis analisadas acima, iremos substituir o valor 0 por 'Não informado' nos atributos categóricos e nos valores contínuos manteremos no mesmo formato, pois a remoção dos registros acabam impactando na remoção de valores de outras variáveis com maior relevância na análise**"
   ]
  },
  {
   "cell_type": "code",
   "execution_count": 67,
   "id": "6cc02bbc",
   "metadata": {},
   "outputs": [
    {
     "data": {
      "text/html": [
       "<div>\n",
       "<style scoped>\n",
       "    .dataframe tbody tr th:only-of-type {\n",
       "        vertical-align: middle;\n",
       "    }\n",
       "\n",
       "    .dataframe tbody tr th {\n",
       "        vertical-align: top;\n",
       "    }\n",
       "\n",
       "    .dataframe thead th {\n",
       "        text-align: right;\n",
       "    }\n",
       "</style>\n",
       "<table border=\"1\" class=\"dataframe\">\n",
       "  <thead>\n",
       "    <tr style=\"text-align: right;\">\n",
       "      <th></th>\n",
       "      <th>regiao</th>\n",
       "      <th>estado</th>\n",
       "      <th>municipio</th>\n",
       "      <th>coduf</th>\n",
       "      <th>codmun</th>\n",
       "      <th>codRegiaoSaude</th>\n",
       "      <th>nomeRegiaoSaude</th>\n",
       "      <th>data</th>\n",
       "      <th>semanaEpi</th>\n",
       "      <th>populacaoTCU2019</th>\n",
       "      <th>casosAcumulado</th>\n",
       "      <th>casosNovos</th>\n",
       "      <th>obitosAcumulado</th>\n",
       "      <th>obitosNovos</th>\n",
       "      <th>Recuperadosnovos</th>\n",
       "      <th>emAcompanhamentoNovos</th>\n",
       "      <th>interior/metropolitana</th>\n",
       "    </tr>\n",
       "  </thead>\n",
       "  <tbody>\n",
       "    <tr>\n",
       "      <th>0</th>\n",
       "      <td>Brasil</td>\n",
       "      <td>Não Informado</td>\n",
       "      <td>Não Informado</td>\n",
       "      <td>76</td>\n",
       "      <td>0</td>\n",
       "      <td>0</td>\n",
       "      <td>Não Informado</td>\n",
       "      <td>2020-02-25</td>\n",
       "      <td>9</td>\n",
       "      <td>210147125</td>\n",
       "      <td>0</td>\n",
       "      <td>0</td>\n",
       "      <td>0</td>\n",
       "      <td>0</td>\n",
       "      <td>0</td>\n",
       "      <td>0</td>\n",
       "      <td>0.0</td>\n",
       "    </tr>\n",
       "    <tr>\n",
       "      <th>1</th>\n",
       "      <td>Brasil</td>\n",
       "      <td>Não Informado</td>\n",
       "      <td>Não Informado</td>\n",
       "      <td>76</td>\n",
       "      <td>0</td>\n",
       "      <td>0</td>\n",
       "      <td>Não Informado</td>\n",
       "      <td>2020-02-26</td>\n",
       "      <td>9</td>\n",
       "      <td>210147125</td>\n",
       "      <td>1</td>\n",
       "      <td>1</td>\n",
       "      <td>0</td>\n",
       "      <td>0</td>\n",
       "      <td>1</td>\n",
       "      <td>0</td>\n",
       "      <td>0.0</td>\n",
       "    </tr>\n",
       "    <tr>\n",
       "      <th>2</th>\n",
       "      <td>Brasil</td>\n",
       "      <td>Não Informado</td>\n",
       "      <td>Não Informado</td>\n",
       "      <td>76</td>\n",
       "      <td>0</td>\n",
       "      <td>0</td>\n",
       "      <td>Não Informado</td>\n",
       "      <td>2020-02-27</td>\n",
       "      <td>9</td>\n",
       "      <td>210147125</td>\n",
       "      <td>1</td>\n",
       "      <td>0</td>\n",
       "      <td>0</td>\n",
       "      <td>0</td>\n",
       "      <td>1</td>\n",
       "      <td>0</td>\n",
       "      <td>0.0</td>\n",
       "    </tr>\n",
       "    <tr>\n",
       "      <th>3</th>\n",
       "      <td>Brasil</td>\n",
       "      <td>Não Informado</td>\n",
       "      <td>Não Informado</td>\n",
       "      <td>76</td>\n",
       "      <td>0</td>\n",
       "      <td>0</td>\n",
       "      <td>Não Informado</td>\n",
       "      <td>2020-02-28</td>\n",
       "      <td>9</td>\n",
       "      <td>210147125</td>\n",
       "      <td>1</td>\n",
       "      <td>0</td>\n",
       "      <td>0</td>\n",
       "      <td>0</td>\n",
       "      <td>0</td>\n",
       "      <td>1</td>\n",
       "      <td>0.0</td>\n",
       "    </tr>\n",
       "    <tr>\n",
       "      <th>4</th>\n",
       "      <td>Brasil</td>\n",
       "      <td>Não Informado</td>\n",
       "      <td>Não Informado</td>\n",
       "      <td>76</td>\n",
       "      <td>0</td>\n",
       "      <td>0</td>\n",
       "      <td>Não Informado</td>\n",
       "      <td>2020-02-29</td>\n",
       "      <td>9</td>\n",
       "      <td>210147125</td>\n",
       "      <td>2</td>\n",
       "      <td>1</td>\n",
       "      <td>0</td>\n",
       "      <td>0</td>\n",
       "      <td>1</td>\n",
       "      <td>1</td>\n",
       "      <td>0.0</td>\n",
       "    </tr>\n",
       "  </tbody>\n",
       "</table>\n",
       "</div>"
      ],
      "text/plain": [
       "   regiao         estado      municipio  coduf  codmun  codRegiaoSaude  \\\n",
       "0  Brasil  Não Informado  Não Informado     76       0               0   \n",
       "1  Brasil  Não Informado  Não Informado     76       0               0   \n",
       "2  Brasil  Não Informado  Não Informado     76       0               0   \n",
       "3  Brasil  Não Informado  Não Informado     76       0               0   \n",
       "4  Brasil  Não Informado  Não Informado     76       0               0   \n",
       "\n",
       "  nomeRegiaoSaude        data  semanaEpi  populacaoTCU2019  casosAcumulado  \\\n",
       "0   Não Informado  2020-02-25          9         210147125               0   \n",
       "1   Não Informado  2020-02-26          9         210147125               1   \n",
       "2   Não Informado  2020-02-27          9         210147125               1   \n",
       "3   Não Informado  2020-02-28          9         210147125               1   \n",
       "4   Não Informado  2020-02-29          9         210147125               2   \n",
       "\n",
       "   casosNovos  obitosAcumulado  obitosNovos  Recuperadosnovos  \\\n",
       "0           0                0            0                 0   \n",
       "1           1                0            0                 1   \n",
       "2           0                0            0                 1   \n",
       "3           0                0            0                 0   \n",
       "4           1                0            0                 1   \n",
       "\n",
       "   emAcompanhamentoNovos  interior/metropolitana  \n",
       "0                      0                     0.0  \n",
       "1                      0                     0.0  \n",
       "2                      0                     0.0  \n",
       "3                      1                     0.0  \n",
       "4                      1                     0.0  "
      ]
     },
     "execution_count": 67,
     "metadata": {},
     "output_type": "execute_result"
    }
   ],
   "source": [
    "cvd_2020_1['municipio'].replace('0','Não Informado',inplace=True)\n",
    "cvd_2020_1['estado'].replace('0','Não Informado',inplace=True)\n",
    "cvd_2020_1['nomeRegiaoSaude'].replace('0','Não Informado',inplace=True)\n",
    "cvd_2020_1.head()"
   ]
  },
  {
   "cell_type": "markdown",
   "id": "e807f0d9",
   "metadata": {},
   "source": [
    "#### Explorando e Tratando os Dados da Covid do período 2021.1"
   ]
  },
  {
   "cell_type": "code",
   "execution_count": 68,
   "id": "f7880381",
   "metadata": {
    "scrolled": true
   },
   "outputs": [
    {
     "data": {
      "text/html": [
       "<div>\n",
       "<style scoped>\n",
       "    .dataframe tbody tr th:only-of-type {\n",
       "        vertical-align: middle;\n",
       "    }\n",
       "\n",
       "    .dataframe tbody tr th {\n",
       "        vertical-align: top;\n",
       "    }\n",
       "\n",
       "    .dataframe thead th {\n",
       "        text-align: right;\n",
       "    }\n",
       "</style>\n",
       "<table border=\"1\" class=\"dataframe\">\n",
       "  <thead>\n",
       "    <tr style=\"text-align: right;\">\n",
       "      <th></th>\n",
       "      <th>regiao</th>\n",
       "      <th>estado</th>\n",
       "      <th>municipio</th>\n",
       "      <th>coduf</th>\n",
       "      <th>codmun</th>\n",
       "      <th>codRegiaoSaude</th>\n",
       "      <th>nomeRegiaoSaude</th>\n",
       "      <th>data</th>\n",
       "      <th>semanaEpi</th>\n",
       "      <th>populacaoTCU2019</th>\n",
       "      <th>casosAcumulado</th>\n",
       "      <th>casosNovos</th>\n",
       "      <th>obitosAcumulado</th>\n",
       "      <th>obitosNovos</th>\n",
       "      <th>Recuperadosnovos</th>\n",
       "      <th>emAcompanhamentoNovos</th>\n",
       "      <th>interior/metropolitana</th>\n",
       "    </tr>\n",
       "  </thead>\n",
       "  <tbody>\n",
       "    <tr>\n",
       "      <th>0</th>\n",
       "      <td>Brasil</td>\n",
       "      <td>NaN</td>\n",
       "      <td>NaN</td>\n",
       "      <td>76</td>\n",
       "      <td>NaN</td>\n",
       "      <td>NaN</td>\n",
       "      <td>NaN</td>\n",
       "      <td>2021-01-01</td>\n",
       "      <td>53</td>\n",
       "      <td>210147125.0</td>\n",
       "      <td>7700578.0</td>\n",
       "      <td>24605</td>\n",
       "      <td>195411</td>\n",
       "      <td>462</td>\n",
       "      <td>6747065.0</td>\n",
       "      <td>733959.0</td>\n",
       "      <td>NaN</td>\n",
       "    </tr>\n",
       "    <tr>\n",
       "      <th>1</th>\n",
       "      <td>Brasil</td>\n",
       "      <td>NaN</td>\n",
       "      <td>NaN</td>\n",
       "      <td>76</td>\n",
       "      <td>NaN</td>\n",
       "      <td>NaN</td>\n",
       "      <td>NaN</td>\n",
       "      <td>2021-01-01</td>\n",
       "      <td>53</td>\n",
       "      <td>210147125.0</td>\n",
       "      <td>7700578.0</td>\n",
       "      <td>0</td>\n",
       "      <td>195411</td>\n",
       "      <td>0</td>\n",
       "      <td>6756284.0</td>\n",
       "      <td>748883.0</td>\n",
       "      <td>NaN</td>\n",
       "    </tr>\n",
       "    <tr>\n",
       "      <th>2</th>\n",
       "      <td>Brasil</td>\n",
       "      <td>NaN</td>\n",
       "      <td>NaN</td>\n",
       "      <td>76</td>\n",
       "      <td>NaN</td>\n",
       "      <td>NaN</td>\n",
       "      <td>NaN</td>\n",
       "      <td>2021-01-02</td>\n",
       "      <td>53</td>\n",
       "      <td>210147125.0</td>\n",
       "      <td>7716405.0</td>\n",
       "      <td>15827</td>\n",
       "      <td>195725</td>\n",
       "      <td>314</td>\n",
       "      <td>6756284.0</td>\n",
       "      <td>748883.0</td>\n",
       "      <td>NaN</td>\n",
       "    </tr>\n",
       "    <tr>\n",
       "      <th>3</th>\n",
       "      <td>Brasil</td>\n",
       "      <td>NaN</td>\n",
       "      <td>NaN</td>\n",
       "      <td>76</td>\n",
       "      <td>NaN</td>\n",
       "      <td>NaN</td>\n",
       "      <td>NaN</td>\n",
       "      <td>2021-01-02</td>\n",
       "      <td>53</td>\n",
       "      <td>210147125.0</td>\n",
       "      <td>7716405.0</td>\n",
       "      <td>0</td>\n",
       "      <td>195725</td>\n",
       "      <td>0</td>\n",
       "      <td>6769420.0</td>\n",
       "      <td>751260.0</td>\n",
       "      <td>NaN</td>\n",
       "    </tr>\n",
       "    <tr>\n",
       "      <th>4</th>\n",
       "      <td>Brasil</td>\n",
       "      <td>NaN</td>\n",
       "      <td>NaN</td>\n",
       "      <td>76</td>\n",
       "      <td>NaN</td>\n",
       "      <td>NaN</td>\n",
       "      <td>NaN</td>\n",
       "      <td>2021-01-03</td>\n",
       "      <td>1</td>\n",
       "      <td>210147125.0</td>\n",
       "      <td>7733746.0</td>\n",
       "      <td>17341</td>\n",
       "      <td>196018</td>\n",
       "      <td>293</td>\n",
       "      <td>6769420.0</td>\n",
       "      <td>751260.0</td>\n",
       "      <td>NaN</td>\n",
       "    </tr>\n",
       "  </tbody>\n",
       "</table>\n",
       "</div>"
      ],
      "text/plain": [
       "   regiao estado municipio  coduf  codmun  codRegiaoSaude nomeRegiaoSaude  \\\n",
       "0  Brasil    NaN       NaN     76     NaN             NaN             NaN   \n",
       "1  Brasil    NaN       NaN     76     NaN             NaN             NaN   \n",
       "2  Brasil    NaN       NaN     76     NaN             NaN             NaN   \n",
       "3  Brasil    NaN       NaN     76     NaN             NaN             NaN   \n",
       "4  Brasil    NaN       NaN     76     NaN             NaN             NaN   \n",
       "\n",
       "         data  semanaEpi  populacaoTCU2019  casosAcumulado  casosNovos  \\\n",
       "0  2021-01-01         53       210147125.0       7700578.0       24605   \n",
       "1  2021-01-01         53       210147125.0       7700578.0           0   \n",
       "2  2021-01-02         53       210147125.0       7716405.0       15827   \n",
       "3  2021-01-02         53       210147125.0       7716405.0           0   \n",
       "4  2021-01-03          1       210147125.0       7733746.0       17341   \n",
       "\n",
       "   obitosAcumulado  obitosNovos  Recuperadosnovos  emAcompanhamentoNovos  \\\n",
       "0           195411          462         6747065.0               733959.0   \n",
       "1           195411            0         6756284.0               748883.0   \n",
       "2           195725          314         6756284.0               748883.0   \n",
       "3           195725            0         6769420.0               751260.0   \n",
       "4           196018          293         6769420.0               751260.0   \n",
       "\n",
       "   interior/metropolitana  \n",
       "0                     NaN  \n",
       "1                     NaN  \n",
       "2                     NaN  \n",
       "3                     NaN  \n",
       "4                     NaN  "
      ]
     },
     "execution_count": 68,
     "metadata": {},
     "output_type": "execute_result"
    }
   ],
   "source": [
    "cvd_2021_1.head()"
   ]
  },
  {
   "cell_type": "markdown",
   "id": "88a09d12",
   "metadata": {},
   "source": [
    "**Após analisar os valores faltantes dos atributos do dataset identificamos duas variáveis com valores ausentes excessivos são a 'Recuperadosnovos' e a 'emAcompanhamentoNovos', devido a abordagem considerada é a de remoção desses atributos do dataset. Além disso, todas as variáveis que possuem valores ausentes, é feito um análise considicional para remoção desses valores nas mesmas**"
   ]
  },
  {
   "cell_type": "code",
   "execution_count": 69,
   "id": "327f700c",
   "metadata": {},
   "outputs": [
    {
     "name": "stdout",
     "output_type": "stream",
     "text": [
      "regiao :  0.0\n",
      "estado :  0.03558718861209965\n",
      "municipio :  0.8896797153024912\n",
      "coduf :  0.0\n",
      "codmun :  0.5160142348754448\n",
      "codRegiaoSaude :  0.8896797153024912\n",
      "nomeRegiaoSaude :  0.8896797153024912\n",
      "data :  0.0\n",
      "semanaEpi :  0.0\n",
      "populacaoTCU2019 :  0.3736654804270463\n",
      "casosAcumulado :  0.0\n",
      "casosNovos :  0.0\n",
      "obitosAcumulado :  0.0\n",
      "obitosNovos :  0.0\n",
      "Recuperadosnovos :  99.9644128113879\n",
      "emAcompanhamentoNovos :  99.9644128113879\n",
      "interior/metropolitana :  0.8896797153024912\n"
     ]
    }
   ],
   "source": [
    "# Identificação do percentual dos valores ausentes em cada atributo\n",
    "for collumn in list(cvd_2021_1.columns):\n",
    "    porcentagem = ((cvd_2021_1[collumn].isna().sum()/len(cvd_2021_1[collumn]))*100)\n",
    "    print(collumn,\": \",porcentagem)"
   ]
  },
  {
   "cell_type": "code",
   "execution_count": 70,
   "id": "283dbaa1",
   "metadata": {},
   "outputs": [],
   "source": [
    "cvd_2021_1.drop(['Recuperadosnovos', 'emAcompanhamentoNovos'], inplace=True ,axis=1)\n",
    "cvd_2021_1 = cvd_2021_1[(cvd_2021_1['interior/metropolitana'] != np.nan) \n",
    "                        & (cvd_2021_1['populacaoTCU2019'] != np.nan) \n",
    "                        & (cvd_2021_1['nomeRegiaoSaude'] != np.nan)\n",
    "                        & (cvd_2021_1['codRegiaoSaude'] != np.nan)\n",
    "                        & (cvd_2021_1['codmun'] != np.nan)\n",
    "                        & (cvd_2021_1['municipio'] != np.nan)\n",
    "                        & (cvd_2021_1['estado'] != np.nan)]"
   ]
  },
  {
   "cell_type": "markdown",
   "id": "b46c916d",
   "metadata": {},
   "source": [
    "**Acima é percebido que apesar da tentativa de remoção dos registros com valores NaN de todas as variáveis mapeadas, a resolução não possuiu efeito prático, pensando nisso, faremos o mesmo processo de imputação para a variável 'interior/metropolitana' e nas demais iremos imputar valores que identifiquem informações faltantes, assim poderemos separar as mesmas em nossa análise, mas antes de realizarmos iremos ver a viabilidade da estratégia, visando saber se há de fato possibilidade de relacionar as informações de uma variável com outra**"
   ]
  },
  {
   "cell_type": "code",
   "execution_count": 71,
   "id": "5d928649",
   "metadata": {},
   "outputs": [
    {
     "name": "stdout",
     "output_type": "stream",
     "text": [
      "regiao :  0.0\n",
      "estado :  0.03558718861209965\n",
      "municipio :  0.8896797153024912\n",
      "coduf :  0.0\n",
      "codmun :  0.5160142348754448\n",
      "codRegiaoSaude :  0.8896797153024912\n",
      "nomeRegiaoSaude :  0.8896797153024912\n",
      "data :  0.0\n",
      "semanaEpi :  0.0\n",
      "populacaoTCU2019 :  0.3736654804270463\n",
      "casosAcumulado :  0.0\n",
      "casosNovos :  0.0\n",
      "obitosAcumulado :  0.0\n",
      "obitosNovos :  0.0\n",
      "interior/metropolitana :  0.8896797153024912\n"
     ]
    }
   ],
   "source": [
    "# Identificação do percentual dos valores ausentes em cada atributo\n",
    "for collumn in list(cvd_2021_1.columns):\n",
    "    porcentagem = ((cvd_2021_1[collumn].isna().sum()/len(cvd_2021_1[collumn]))*100)\n",
    "    print(collumn,\": \",porcentagem)"
   ]
  },
  {
   "cell_type": "code",
   "execution_count": 72,
   "id": "7a77d85e",
   "metadata": {},
   "outputs": [
    {
     "data": {
      "text/plain": [
       "0"
      ]
     },
     "execution_count": 72,
     "metadata": {},
     "output_type": "execute_result"
    }
   ],
   "source": [
    "len(cvd_2021_1[(pd.isna(cvd_2021_1['interior/metropolitana'])) & ~(pd.isna(cvd_2021_1['municipio']))])"
   ]
  },
  {
   "cell_type": "markdown",
   "id": "3c05c419",
   "metadata": {},
   "source": [
    "**No dataset 'cvd_2020_1' foi utilizado uma técnica de imputação de valores para a variável 'interior/metropolitana' 'municipio', contudo não iremos utilizar a mesma abordagem nesse, pois como foi apresentado acima todos os registros de 'interior/metropolitana' que possuem dados NaN também possuem dados NaN na variável 'municipio', impossibilitando fazermos qualquer relação entre dados**"
   ]
  },
  {
   "cell_type": "code",
   "execution_count": 73,
   "id": "014df93f",
   "metadata": {},
   "outputs": [
    {
     "data": {
      "text/html": [
       "<div>\n",
       "<style scoped>\n",
       "    .dataframe tbody tr th:only-of-type {\n",
       "        vertical-align: middle;\n",
       "    }\n",
       "\n",
       "    .dataframe tbody tr th {\n",
       "        vertical-align: top;\n",
       "    }\n",
       "\n",
       "    .dataframe thead th {\n",
       "        text-align: right;\n",
       "    }\n",
       "</style>\n",
       "<table border=\"1\" class=\"dataframe\">\n",
       "  <thead>\n",
       "    <tr style=\"text-align: right;\">\n",
       "      <th></th>\n",
       "      <th>regiao</th>\n",
       "      <th>estado</th>\n",
       "      <th>municipio</th>\n",
       "      <th>coduf</th>\n",
       "      <th>codmun</th>\n",
       "      <th>codRegiaoSaude</th>\n",
       "      <th>nomeRegiaoSaude</th>\n",
       "      <th>data</th>\n",
       "      <th>semanaEpi</th>\n",
       "      <th>populacaoTCU2019</th>\n",
       "      <th>casosAcumulado</th>\n",
       "      <th>casosNovos</th>\n",
       "      <th>obitosAcumulado</th>\n",
       "      <th>obitosNovos</th>\n",
       "      <th>interior/metropolitana</th>\n",
       "    </tr>\n",
       "  </thead>\n",
       "  <tbody>\n",
       "    <tr>\n",
       "      <th>0</th>\n",
       "      <td>Brasil</td>\n",
       "      <td>Não Informado</td>\n",
       "      <td>Não Informado</td>\n",
       "      <td>76</td>\n",
       "      <td>-1.0</td>\n",
       "      <td>-1.0</td>\n",
       "      <td>Não Informado</td>\n",
       "      <td>2021-01-01</td>\n",
       "      <td>53</td>\n",
       "      <td>210147125.0</td>\n",
       "      <td>7700578.0</td>\n",
       "      <td>24605</td>\n",
       "      <td>195411</td>\n",
       "      <td>462</td>\n",
       "      <td>-1.0</td>\n",
       "    </tr>\n",
       "    <tr>\n",
       "      <th>1</th>\n",
       "      <td>Brasil</td>\n",
       "      <td>Não Informado</td>\n",
       "      <td>Não Informado</td>\n",
       "      <td>76</td>\n",
       "      <td>-1.0</td>\n",
       "      <td>-1.0</td>\n",
       "      <td>Não Informado</td>\n",
       "      <td>2021-01-01</td>\n",
       "      <td>53</td>\n",
       "      <td>210147125.0</td>\n",
       "      <td>7700578.0</td>\n",
       "      <td>0</td>\n",
       "      <td>195411</td>\n",
       "      <td>0</td>\n",
       "      <td>-1.0</td>\n",
       "    </tr>\n",
       "    <tr>\n",
       "      <th>2</th>\n",
       "      <td>Brasil</td>\n",
       "      <td>Não Informado</td>\n",
       "      <td>Não Informado</td>\n",
       "      <td>76</td>\n",
       "      <td>-1.0</td>\n",
       "      <td>-1.0</td>\n",
       "      <td>Não Informado</td>\n",
       "      <td>2021-01-02</td>\n",
       "      <td>53</td>\n",
       "      <td>210147125.0</td>\n",
       "      <td>7716405.0</td>\n",
       "      <td>15827</td>\n",
       "      <td>195725</td>\n",
       "      <td>314</td>\n",
       "      <td>-1.0</td>\n",
       "    </tr>\n",
       "    <tr>\n",
       "      <th>3</th>\n",
       "      <td>Brasil</td>\n",
       "      <td>Não Informado</td>\n",
       "      <td>Não Informado</td>\n",
       "      <td>76</td>\n",
       "      <td>-1.0</td>\n",
       "      <td>-1.0</td>\n",
       "      <td>Não Informado</td>\n",
       "      <td>2021-01-02</td>\n",
       "      <td>53</td>\n",
       "      <td>210147125.0</td>\n",
       "      <td>7716405.0</td>\n",
       "      <td>0</td>\n",
       "      <td>195725</td>\n",
       "      <td>0</td>\n",
       "      <td>-1.0</td>\n",
       "    </tr>\n",
       "    <tr>\n",
       "      <th>4</th>\n",
       "      <td>Brasil</td>\n",
       "      <td>Não Informado</td>\n",
       "      <td>Não Informado</td>\n",
       "      <td>76</td>\n",
       "      <td>-1.0</td>\n",
       "      <td>-1.0</td>\n",
       "      <td>Não Informado</td>\n",
       "      <td>2021-01-03</td>\n",
       "      <td>1</td>\n",
       "      <td>210147125.0</td>\n",
       "      <td>7733746.0</td>\n",
       "      <td>17341</td>\n",
       "      <td>196018</td>\n",
       "      <td>293</td>\n",
       "      <td>-1.0</td>\n",
       "    </tr>\n",
       "  </tbody>\n",
       "</table>\n",
       "</div>"
      ],
      "text/plain": [
       "   regiao         estado      municipio  coduf  codmun  codRegiaoSaude  \\\n",
       "0  Brasil  Não Informado  Não Informado     76    -1.0            -1.0   \n",
       "1  Brasil  Não Informado  Não Informado     76    -1.0            -1.0   \n",
       "2  Brasil  Não Informado  Não Informado     76    -1.0            -1.0   \n",
       "3  Brasil  Não Informado  Não Informado     76    -1.0            -1.0   \n",
       "4  Brasil  Não Informado  Não Informado     76    -1.0            -1.0   \n",
       "\n",
       "  nomeRegiaoSaude        data  semanaEpi  populacaoTCU2019  casosAcumulado  \\\n",
       "0   Não Informado  2021-01-01         53       210147125.0       7700578.0   \n",
       "1   Não Informado  2021-01-01         53       210147125.0       7700578.0   \n",
       "2   Não Informado  2021-01-02         53       210147125.0       7716405.0   \n",
       "3   Não Informado  2021-01-02         53       210147125.0       7716405.0   \n",
       "4   Não Informado  2021-01-03          1       210147125.0       7733746.0   \n",
       "\n",
       "   casosNovos  obitosAcumulado  obitosNovos  interior/metropolitana  \n",
       "0       24605           195411          462                    -1.0  \n",
       "1           0           195411            0                    -1.0  \n",
       "2       15827           195725          314                    -1.0  \n",
       "3           0           195725            0                    -1.0  \n",
       "4       17341           196018          293                    -1.0  "
      ]
     },
     "execution_count": 73,
     "metadata": {},
     "output_type": "execute_result"
    }
   ],
   "source": [
    "#Imputação de valores sintéticos para identificação de valores faltantes no dataset\n",
    "cvd_2021_1['estado'].replace(np.nan,\"Não Informado\", inplace=True)\n",
    "cvd_2021_1['municipio'].replace(np.nan,\"Não Informado\", inplace=True)\n",
    "cvd_2021_1['nomeRegiaoSaude'].replace(np.nan,\"Não Informado\", inplace=True)\n",
    "cvd_2021_1['interior/metropolitana'].replace(np.nan,-1,inplace=True)\n",
    "cvd_2021_1['codmun'].replace(np.nan,-1,inplace=True)\n",
    "cvd_2021_1['codRegiaoSaude'].replace(np.nan,-1,inplace=True)\n",
    "cvd_2021_1['populacaoTCU2019'].replace(np.nan,-1,inplace=True)\n",
    "cvd_2021_1['interior/metropolitana'].replace(np.nan,-1,inplace=True)\n",
    "cvd_2021_1.head()"
   ]
  },
  {
   "cell_type": "code",
   "execution_count": 74,
   "id": "2ae50ba5",
   "metadata": {
    "scrolled": true
   },
   "outputs": [
    {
     "name": "stdout",
     "output_type": "stream",
     "text": [
      "regiao :  0.0\n",
      "estado :  0.0\n",
      "municipio :  0.0\n",
      "coduf :  0.0\n",
      "codmun :  0.0\n",
      "codRegiaoSaude :  0.0\n",
      "nomeRegiaoSaude :  0.0\n",
      "data :  0.0\n",
      "semanaEpi :  0.0\n",
      "populacaoTCU2019 :  0.0\n",
      "casosAcumulado :  0.0\n",
      "casosNovos :  0.0\n",
      "obitosAcumulado :  0.0\n",
      "obitosNovos :  0.0\n",
      "interior/metropolitana :  0.0\n"
     ]
    }
   ],
   "source": [
    "# Identificação do percentual dos valores ausentes em cada atributo após tratamento\n",
    "for collumn in list(cvd_2021_1.columns):\n",
    "    porcentagem = ((cvd_2021_1[collumn].isna().sum()/len(cvd_2021_1[collumn]))*100)\n",
    "    print(collumn,\": \",porcentagem)"
   ]
  },
  {
   "cell_type": "markdown",
   "id": "78951bac",
   "metadata": {},
   "source": [
    "**Explorando e Tratando os Dados da Covid do período 2022.1**"
   ]
  },
  {
   "cell_type": "code",
   "execution_count": 75,
   "id": "c068efad",
   "metadata": {},
   "outputs": [
    {
     "data": {
      "text/html": [
       "<div>\n",
       "<style scoped>\n",
       "    .dataframe tbody tr th:only-of-type {\n",
       "        vertical-align: middle;\n",
       "    }\n",
       "\n",
       "    .dataframe tbody tr th {\n",
       "        vertical-align: top;\n",
       "    }\n",
       "\n",
       "    .dataframe thead th {\n",
       "        text-align: right;\n",
       "    }\n",
       "</style>\n",
       "<table border=\"1\" class=\"dataframe\">\n",
       "  <thead>\n",
       "    <tr style=\"text-align: right;\">\n",
       "      <th></th>\n",
       "      <th>regiao</th>\n",
       "      <th>estado</th>\n",
       "      <th>municipio</th>\n",
       "      <th>coduf</th>\n",
       "      <th>codmun</th>\n",
       "      <th>codRegiaoSaude</th>\n",
       "      <th>nomeRegiaoSaude</th>\n",
       "      <th>data</th>\n",
       "      <th>semanaEpi</th>\n",
       "      <th>populacaoTCU2019</th>\n",
       "      <th>casosAcumulado</th>\n",
       "      <th>casosNovos</th>\n",
       "      <th>obitosAcumulado</th>\n",
       "      <th>obitosNovos</th>\n",
       "      <th>Recuperadosnovos</th>\n",
       "      <th>emAcompanhamentoNovos</th>\n",
       "      <th>interior/metropolitana</th>\n",
       "    </tr>\n",
       "  </thead>\n",
       "  <tbody>\n",
       "    <tr>\n",
       "      <th>0</th>\n",
       "      <td>Brasil</td>\n",
       "      <td>NaN</td>\n",
       "      <td>NaN</td>\n",
       "      <td>76</td>\n",
       "      <td>NaN</td>\n",
       "      <td>NaN</td>\n",
       "      <td>NaN</td>\n",
       "      <td>2022-01-01</td>\n",
       "      <td>52</td>\n",
       "      <td>210147125.0</td>\n",
       "      <td>22291507.0</td>\n",
       "      <td>3986</td>\n",
       "      <td>619105</td>\n",
       "      <td>49</td>\n",
       "      <td>21581668.0</td>\n",
       "      <td>90734.0</td>\n",
       "      <td>NaN</td>\n",
       "    </tr>\n",
       "    <tr>\n",
       "      <th>1</th>\n",
       "      <td>Brasil</td>\n",
       "      <td>NaN</td>\n",
       "      <td>NaN</td>\n",
       "      <td>76</td>\n",
       "      <td>NaN</td>\n",
       "      <td>NaN</td>\n",
       "      <td>NaN</td>\n",
       "      <td>2022-01-02</td>\n",
       "      <td>1</td>\n",
       "      <td>210147125.0</td>\n",
       "      <td>22293228.0</td>\n",
       "      <td>1721</td>\n",
       "      <td>619133</td>\n",
       "      <td>28</td>\n",
       "      <td>21581717.0</td>\n",
       "      <td>92378.0</td>\n",
       "      <td>NaN</td>\n",
       "    </tr>\n",
       "    <tr>\n",
       "      <th>2</th>\n",
       "      <td>Brasil</td>\n",
       "      <td>NaN</td>\n",
       "      <td>NaN</td>\n",
       "      <td>76</td>\n",
       "      <td>NaN</td>\n",
       "      <td>NaN</td>\n",
       "      <td>NaN</td>\n",
       "      <td>2022-01-03</td>\n",
       "      <td>1</td>\n",
       "      <td>210147125.0</td>\n",
       "      <td>22305078.0</td>\n",
       "      <td>11850</td>\n",
       "      <td>619209</td>\n",
       "      <td>76</td>\n",
       "      <td>21591847.0</td>\n",
       "      <td>94022.0</td>\n",
       "      <td>NaN</td>\n",
       "    </tr>\n",
       "    <tr>\n",
       "      <th>3</th>\n",
       "      <td>Brasil</td>\n",
       "      <td>NaN</td>\n",
       "      <td>NaN</td>\n",
       "      <td>76</td>\n",
       "      <td>NaN</td>\n",
       "      <td>NaN</td>\n",
       "      <td>NaN</td>\n",
       "      <td>2022-01-04</td>\n",
       "      <td>1</td>\n",
       "      <td>210147125.0</td>\n",
       "      <td>22323837.0</td>\n",
       "      <td>18759</td>\n",
       "      <td>619384</td>\n",
       "      <td>175</td>\n",
       "      <td>21603954.0</td>\n",
       "      <td>100499.0</td>\n",
       "      <td>NaN</td>\n",
       "    </tr>\n",
       "    <tr>\n",
       "      <th>4</th>\n",
       "      <td>Brasil</td>\n",
       "      <td>NaN</td>\n",
       "      <td>NaN</td>\n",
       "      <td>76</td>\n",
       "      <td>NaN</td>\n",
       "      <td>NaN</td>\n",
       "      <td>NaN</td>\n",
       "      <td>2022-01-05</td>\n",
       "      <td>1</td>\n",
       "      <td>210147125.0</td>\n",
       "      <td>22351104.0</td>\n",
       "      <td>27267</td>\n",
       "      <td>619513</td>\n",
       "      <td>129</td>\n",
       "      <td>21615473.0</td>\n",
       "      <td>116118.0</td>\n",
       "      <td>NaN</td>\n",
       "    </tr>\n",
       "  </tbody>\n",
       "</table>\n",
       "</div>"
      ],
      "text/plain": [
       "   regiao estado municipio  coduf  codmun  codRegiaoSaude nomeRegiaoSaude  \\\n",
       "0  Brasil    NaN       NaN     76     NaN             NaN             NaN   \n",
       "1  Brasil    NaN       NaN     76     NaN             NaN             NaN   \n",
       "2  Brasil    NaN       NaN     76     NaN             NaN             NaN   \n",
       "3  Brasil    NaN       NaN     76     NaN             NaN             NaN   \n",
       "4  Brasil    NaN       NaN     76     NaN             NaN             NaN   \n",
       "\n",
       "         data  semanaEpi  populacaoTCU2019  casosAcumulado  casosNovos  \\\n",
       "0  2022-01-01         52       210147125.0      22291507.0        3986   \n",
       "1  2022-01-02          1       210147125.0      22293228.0        1721   \n",
       "2  2022-01-03          1       210147125.0      22305078.0       11850   \n",
       "3  2022-01-04          1       210147125.0      22323837.0       18759   \n",
       "4  2022-01-05          1       210147125.0      22351104.0       27267   \n",
       "\n",
       "   obitosAcumulado  obitosNovos  Recuperadosnovos  emAcompanhamentoNovos  \\\n",
       "0           619105           49        21581668.0                90734.0   \n",
       "1           619133           28        21581717.0                92378.0   \n",
       "2           619209           76        21591847.0                94022.0   \n",
       "3           619384          175        21603954.0               100499.0   \n",
       "4           619513          129        21615473.0               116118.0   \n",
       "\n",
       "   interior/metropolitana  \n",
       "0                     NaN  \n",
       "1                     NaN  \n",
       "2                     NaN  \n",
       "3                     NaN  \n",
       "4                     NaN  "
      ]
     },
     "execution_count": 75,
     "metadata": {},
     "output_type": "execute_result"
    }
   ],
   "source": [
    "cvd_2022_1.head()"
   ]
  },
  {
   "cell_type": "code",
   "execution_count": 76,
   "id": "f0e4d3c5",
   "metadata": {},
   "outputs": [
    {
     "name": "stdout",
     "output_type": "stream",
     "text": [
      "regiao :  0.0\n",
      "estado :  0.01818357674823484\n",
      "municipio :  0.8724247993036076\n",
      "coduf :  0.0\n",
      "codmun :  0.49869426443563203\n",
      "codRegiaoSaude :  0.8724247993036076\n",
      "nomeRegiaoSaude :  0.8724247993036076\n",
      "data :  0.0\n",
      "semanaEpi :  0.0\n",
      "populacaoTCU2019 :  0.37373053486797564\n",
      "casosAcumulado :  0.0\n",
      "casosNovos :  0.0\n",
      "obitosAcumulado :  0.0\n",
      "obitosNovos :  0.0\n",
      "Recuperadosnovos :  99.98181642325177\n",
      "emAcompanhamentoNovos :  99.98181642325177\n",
      "interior/metropolitana :  0.8724247993036076\n"
     ]
    }
   ],
   "source": [
    "# Identificação do percentual dos valores ausentes em cada atributo\n",
    "for collumn in list(cvd_2022_1.columns):\n",
    "    porcentagem = ((cvd_2022_1[collumn].isna().sum()/len(cvd_2022_1[collumn]))*100)\n",
    "    print(collumn,\": \",porcentagem)"
   ]
  },
  {
   "cell_type": "markdown",
   "id": "ebf654d0",
   "metadata": {},
   "source": [
    "**Assim como no dataset 'cvd_2021_1' iremos fazer a remoção das variáveis 'Recuperadosnovos' e 'emAcompanhamentoNovos' devido a alta incidências de valores NaN e abaixo será removido todos os registros onde os valores ausentes apareçam em todas as variáveis mapeadas**"
   ]
  },
  {
   "cell_type": "code",
   "execution_count": 77,
   "id": "529934af",
   "metadata": {},
   "outputs": [],
   "source": [
    "cvd_2022_1.drop(['Recuperadosnovos', 'emAcompanhamentoNovos'], inplace=True ,axis=1)\n",
    "cvd_2022_1 = cvd_2022_1[(cvd_2022_1['interior/metropolitana'] != np.nan) \n",
    "                        & (cvd_2022_1['populacaoTCU2019'] != np.nan) \n",
    "                        & (cvd_2022_1['nomeRegiaoSaude'] != np.nan)\n",
    "                        & (cvd_2022_1['codRegiaoSaude'] != np.nan)\n",
    "                        & (cvd_2022_1['codmun'] != np.nan)\n",
    "                        & (cvd_2022_1['municipio'] != np.nan)\n",
    "                        & (cvd_2022_1['estado'] != np.nan)]"
   ]
  },
  {
   "cell_type": "code",
   "execution_count": 78,
   "id": "d8601532",
   "metadata": {},
   "outputs": [],
   "source": [
    "# Como removemos dos dois datsets de anos posteriores, o ideal é removermos as mesmas colunas do\n",
    "# dataset referente a 2020, pois as análises no caso serão comparativas\n",
    "cvd_2020_1.drop(['Recuperadosnovos', 'emAcompanhamentoNovos'], inplace=True ,axis=1)"
   ]
  },
  {
   "cell_type": "markdown",
   "id": "d278a5d5",
   "metadata": {},
   "source": [
    "**Abaixo é feita a checagem para saber se existe uma relação direta dos valores NaN da variável 'interior/metropolitana' e da variável 'municipio', contudo ao aalisar o resultado podemos ver que para todos os valores NaN de 'interior/metropolitana' o respectivo valor em 'municipio' também é NaN, impossibilitando em fazer qualquer associação para imputação**"
   ]
  },
  {
   "cell_type": "code",
   "execution_count": 79,
   "id": "0bf7f70b",
   "metadata": {},
   "outputs": [
    {
     "data": {
      "text/plain": [
       "0"
      ]
     },
     "execution_count": 79,
     "metadata": {},
     "output_type": "execute_result"
    }
   ],
   "source": [
    "len(cvd_2022_1[(pd.isna(cvd_2022_1['interior/metropolitana'])) & ~(pd.isna(cvd_2022_1['municipio']))])"
   ]
  },
  {
   "cell_type": "code",
   "execution_count": 80,
   "id": "b14d0c13",
   "metadata": {},
   "outputs": [
    {
     "data": {
      "text/html": [
       "<div>\n",
       "<style scoped>\n",
       "    .dataframe tbody tr th:only-of-type {\n",
       "        vertical-align: middle;\n",
       "    }\n",
       "\n",
       "    .dataframe tbody tr th {\n",
       "        vertical-align: top;\n",
       "    }\n",
       "\n",
       "    .dataframe thead th {\n",
       "        text-align: right;\n",
       "    }\n",
       "</style>\n",
       "<table border=\"1\" class=\"dataframe\">\n",
       "  <thead>\n",
       "    <tr style=\"text-align: right;\">\n",
       "      <th></th>\n",
       "      <th>regiao</th>\n",
       "      <th>estado</th>\n",
       "      <th>municipio</th>\n",
       "      <th>coduf</th>\n",
       "      <th>codmun</th>\n",
       "      <th>codRegiaoSaude</th>\n",
       "      <th>nomeRegiaoSaude</th>\n",
       "      <th>data</th>\n",
       "      <th>semanaEpi</th>\n",
       "      <th>populacaoTCU2019</th>\n",
       "      <th>casosAcumulado</th>\n",
       "      <th>casosNovos</th>\n",
       "      <th>obitosAcumulado</th>\n",
       "      <th>obitosNovos</th>\n",
       "      <th>interior/metropolitana</th>\n",
       "    </tr>\n",
       "  </thead>\n",
       "  <tbody>\n",
       "    <tr>\n",
       "      <th>0</th>\n",
       "      <td>Brasil</td>\n",
       "      <td>Não Informado</td>\n",
       "      <td>Não Informado</td>\n",
       "      <td>76</td>\n",
       "      <td>-1.0</td>\n",
       "      <td>-1.0</td>\n",
       "      <td>Não Informado</td>\n",
       "      <td>2022-01-01</td>\n",
       "      <td>52</td>\n",
       "      <td>210147125.0</td>\n",
       "      <td>22291507.0</td>\n",
       "      <td>3986</td>\n",
       "      <td>619105</td>\n",
       "      <td>49</td>\n",
       "      <td>-1.0</td>\n",
       "    </tr>\n",
       "    <tr>\n",
       "      <th>1</th>\n",
       "      <td>Brasil</td>\n",
       "      <td>Não Informado</td>\n",
       "      <td>Não Informado</td>\n",
       "      <td>76</td>\n",
       "      <td>-1.0</td>\n",
       "      <td>-1.0</td>\n",
       "      <td>Não Informado</td>\n",
       "      <td>2022-01-02</td>\n",
       "      <td>1</td>\n",
       "      <td>210147125.0</td>\n",
       "      <td>22293228.0</td>\n",
       "      <td>1721</td>\n",
       "      <td>619133</td>\n",
       "      <td>28</td>\n",
       "      <td>-1.0</td>\n",
       "    </tr>\n",
       "    <tr>\n",
       "      <th>2</th>\n",
       "      <td>Brasil</td>\n",
       "      <td>Não Informado</td>\n",
       "      <td>Não Informado</td>\n",
       "      <td>76</td>\n",
       "      <td>-1.0</td>\n",
       "      <td>-1.0</td>\n",
       "      <td>Não Informado</td>\n",
       "      <td>2022-01-03</td>\n",
       "      <td>1</td>\n",
       "      <td>210147125.0</td>\n",
       "      <td>22305078.0</td>\n",
       "      <td>11850</td>\n",
       "      <td>619209</td>\n",
       "      <td>76</td>\n",
       "      <td>-1.0</td>\n",
       "    </tr>\n",
       "    <tr>\n",
       "      <th>3</th>\n",
       "      <td>Brasil</td>\n",
       "      <td>Não Informado</td>\n",
       "      <td>Não Informado</td>\n",
       "      <td>76</td>\n",
       "      <td>-1.0</td>\n",
       "      <td>-1.0</td>\n",
       "      <td>Não Informado</td>\n",
       "      <td>2022-01-04</td>\n",
       "      <td>1</td>\n",
       "      <td>210147125.0</td>\n",
       "      <td>22323837.0</td>\n",
       "      <td>18759</td>\n",
       "      <td>619384</td>\n",
       "      <td>175</td>\n",
       "      <td>-1.0</td>\n",
       "    </tr>\n",
       "    <tr>\n",
       "      <th>4</th>\n",
       "      <td>Brasil</td>\n",
       "      <td>Não Informado</td>\n",
       "      <td>Não Informado</td>\n",
       "      <td>76</td>\n",
       "      <td>-1.0</td>\n",
       "      <td>-1.0</td>\n",
       "      <td>Não Informado</td>\n",
       "      <td>2022-01-05</td>\n",
       "      <td>1</td>\n",
       "      <td>210147125.0</td>\n",
       "      <td>22351104.0</td>\n",
       "      <td>27267</td>\n",
       "      <td>619513</td>\n",
       "      <td>129</td>\n",
       "      <td>-1.0</td>\n",
       "    </tr>\n",
       "  </tbody>\n",
       "</table>\n",
       "</div>"
      ],
      "text/plain": [
       "   regiao         estado      municipio  coduf  codmun  codRegiaoSaude  \\\n",
       "0  Brasil  Não Informado  Não Informado     76    -1.0            -1.0   \n",
       "1  Brasil  Não Informado  Não Informado     76    -1.0            -1.0   \n",
       "2  Brasil  Não Informado  Não Informado     76    -1.0            -1.0   \n",
       "3  Brasil  Não Informado  Não Informado     76    -1.0            -1.0   \n",
       "4  Brasil  Não Informado  Não Informado     76    -1.0            -1.0   \n",
       "\n",
       "  nomeRegiaoSaude        data  semanaEpi  populacaoTCU2019  casosAcumulado  \\\n",
       "0   Não Informado  2022-01-01         52       210147125.0      22291507.0   \n",
       "1   Não Informado  2022-01-02          1       210147125.0      22293228.0   \n",
       "2   Não Informado  2022-01-03          1       210147125.0      22305078.0   \n",
       "3   Não Informado  2022-01-04          1       210147125.0      22323837.0   \n",
       "4   Não Informado  2022-01-05          1       210147125.0      22351104.0   \n",
       "\n",
       "   casosNovos  obitosAcumulado  obitosNovos  interior/metropolitana  \n",
       "0        3986           619105           49                    -1.0  \n",
       "1        1721           619133           28                    -1.0  \n",
       "2       11850           619209           76                    -1.0  \n",
       "3       18759           619384          175                    -1.0  \n",
       "4       27267           619513          129                    -1.0  "
      ]
     },
     "execution_count": 80,
     "metadata": {},
     "output_type": "execute_result"
    }
   ],
   "source": [
    "#Imputação de valores sintéticos para identificação de valores faltantes no dataset\n",
    "cvd_2022_1['estado'].replace(np.nan,\"Não Informado\", inplace=True)\n",
    "cvd_2022_1['municipio'].replace(np.nan,\"Não Informado\", inplace=True)\n",
    "cvd_2022_1['nomeRegiaoSaude'].replace(np.nan,\"Não Informado\", inplace=True)\n",
    "cvd_2022_1['codmun'].replace(np.nan,-1,inplace=True)\n",
    "cvd_2022_1['codRegiaoSaude'].replace(np.nan,-1,inplace=True)\n",
    "cvd_2022_1['populacaoTCU2019'].replace(np.nan,-1,inplace=True)\n",
    "cvd_2022_1['interior/metropolitana'].replace(np.nan,-1,inplace=True)\n",
    "cvd_2022_1.head()"
   ]
  },
  {
   "cell_type": "markdown",
   "id": "76679386",
   "metadata": {},
   "source": [
    "### Análise e tratamento dos Dados (Parte 2)"
   ]
  },
  {
   "cell_type": "markdown",
   "id": "b6a1e78b",
   "metadata": {},
   "source": [
    "**Análise comparativa dos 1000 primeiros registros de óbtos novos dos datasets**"
   ]
  },
  {
   "cell_type": "code",
   "execution_count": 81,
   "id": "fdac0297",
   "metadata": {},
   "outputs": [
    {
     "data": {
      "text/plain": [
       "<AxesSubplot:>"
      ]
     },
     "execution_count": 81,
     "metadata": {},
     "output_type": "execute_result"
    },
    {
     "data": {
      "image/png": "[encoded data removed]",
      "text/plain": [
       "<Figure size 432x288 with 1 Axes>"
      ]
     },
     "metadata": {},
     "output_type": "display_data"
    }
   ],
   "source": [
    "sns.set_theme(style=\"whitegrid\")\n",
    "\n",
    "data = pd.DataFrame(data={'2020': cvd_2020_1['obitosNovos'].head(300),\n",
    "                         '2021': cvd_2021_1['obitosNovos'].head(300),\n",
    "                         '2022': cvd_2022_1['obitosNovos'].head(300)})\n",
    "sns.lineplot(data=data, palette=\"tab10\")\n"
   ]
  },
  {
   "cell_type": "markdown",
   "id": "b6ba4c73",
   "metadata": {},
   "source": [
    "**Analisando graficamente é perceptível que a escala compromete a análise, pensando nisso o próximo passo será normalizar as variáveis quantitativas de ambos os datasets visando melhor visualização**"
   ]
  },
  {
   "cell_type": "code",
   "execution_count": 82,
   "id": "ea56db32",
   "metadata": {},
   "outputs": [],
   "source": [
    "# normalização de dados utilizando valores mínimos e máximos de cada variável\n",
    "def min_max_norm(database):\n",
    "    columns = ['obitosNovos','obitosAcumulado','casosNovos']\n",
    "    for column in columns:\n",
    "        database[column] = (database[column] - database[column].min()) / (database[column].max() - database[column].min())\n",
    "    return database"
   ]
  },
  {
   "cell_type": "code",
   "execution_count": 83,
   "id": "3365199d",
   "metadata": {},
   "outputs": [
    {
     "data": {
      "text/html": [
       "<div>\n",
       "<style scoped>\n",
       "    .dataframe tbody tr th:only-of-type {\n",
       "        vertical-align: middle;\n",
       "    }\n",
       "\n",
       "    .dataframe tbody tr th {\n",
       "        vertical-align: top;\n",
       "    }\n",
       "\n",
       "    .dataframe thead th {\n",
       "        text-align: right;\n",
       "    }\n",
       "</style>\n",
       "<table border=\"1\" class=\"dataframe\">\n",
       "  <thead>\n",
       "    <tr style=\"text-align: right;\">\n",
       "      <th></th>\n",
       "      <th>regiao</th>\n",
       "      <th>estado</th>\n",
       "      <th>municipio</th>\n",
       "      <th>coduf</th>\n",
       "      <th>codmun</th>\n",
       "      <th>codRegiaoSaude</th>\n",
       "      <th>nomeRegiaoSaude</th>\n",
       "      <th>data</th>\n",
       "      <th>semanaEpi</th>\n",
       "      <th>populacaoTCU2019</th>\n",
       "      <th>casosAcumulado</th>\n",
       "      <th>casosNovos</th>\n",
       "      <th>obitosAcumulado</th>\n",
       "      <th>obitosNovos</th>\n",
       "      <th>interior/metropolitana</th>\n",
       "    </tr>\n",
       "  </thead>\n",
       "  <tbody>\n",
       "    <tr>\n",
       "      <th>0</th>\n",
       "      <td>Brasil</td>\n",
       "      <td>Não Informado</td>\n",
       "      <td>Não Informado</td>\n",
       "      <td>76</td>\n",
       "      <td>-1.0</td>\n",
       "      <td>-1.0</td>\n",
       "      <td>Não Informado</td>\n",
       "      <td>2022-01-01</td>\n",
       "      <td>52</td>\n",
       "      <td>210147125.0</td>\n",
       "      <td>22291507.0</td>\n",
       "      <td>0.115380</td>\n",
       "      <td>0.937884</td>\n",
       "      <td>0.389724</td>\n",
       "      <td>-1.0</td>\n",
       "    </tr>\n",
       "    <tr>\n",
       "      <th>1</th>\n",
       "      <td>Brasil</td>\n",
       "      <td>Não Informado</td>\n",
       "      <td>Não Informado</td>\n",
       "      <td>76</td>\n",
       "      <td>-1.0</td>\n",
       "      <td>-1.0</td>\n",
       "      <td>Não Informado</td>\n",
       "      <td>2022-01-02</td>\n",
       "      <td>1</td>\n",
       "      <td>210147125.0</td>\n",
       "      <td>22293228.0</td>\n",
       "      <td>0.108574</td>\n",
       "      <td>0.937927</td>\n",
       "      <td>0.379544</td>\n",
       "      <td>-1.0</td>\n",
       "    </tr>\n",
       "    <tr>\n",
       "      <th>2</th>\n",
       "      <td>Brasil</td>\n",
       "      <td>Não Informado</td>\n",
       "      <td>Não Informado</td>\n",
       "      <td>76</td>\n",
       "      <td>-1.0</td>\n",
       "      <td>-1.0</td>\n",
       "      <td>Não Informado</td>\n",
       "      <td>2022-01-03</td>\n",
       "      <td>1</td>\n",
       "      <td>210147125.0</td>\n",
       "      <td>22305078.0</td>\n",
       "      <td>0.139008</td>\n",
       "      <td>0.938042</td>\n",
       "      <td>0.402811</td>\n",
       "      <td>-1.0</td>\n",
       "    </tr>\n",
       "    <tr>\n",
       "      <th>3</th>\n",
       "      <td>Brasil</td>\n",
       "      <td>Não Informado</td>\n",
       "      <td>Não Informado</td>\n",
       "      <td>76</td>\n",
       "      <td>-1.0</td>\n",
       "      <td>-1.0</td>\n",
       "      <td>Não Informado</td>\n",
       "      <td>2022-01-04</td>\n",
       "      <td>1</td>\n",
       "      <td>210147125.0</td>\n",
       "      <td>22323837.0</td>\n",
       "      <td>0.159767</td>\n",
       "      <td>0.938307</td>\n",
       "      <td>0.450800</td>\n",
       "      <td>-1.0</td>\n",
       "    </tr>\n",
       "    <tr>\n",
       "      <th>4</th>\n",
       "      <td>Brasil</td>\n",
       "      <td>Não Informado</td>\n",
       "      <td>Não Informado</td>\n",
       "      <td>76</td>\n",
       "      <td>-1.0</td>\n",
       "      <td>-1.0</td>\n",
       "      <td>Não Informado</td>\n",
       "      <td>2022-01-05</td>\n",
       "      <td>1</td>\n",
       "      <td>210147125.0</td>\n",
       "      <td>22351104.0</td>\n",
       "      <td>0.185330</td>\n",
       "      <td>0.938502</td>\n",
       "      <td>0.428502</td>\n",
       "      <td>-1.0</td>\n",
       "    </tr>\n",
       "  </tbody>\n",
       "</table>\n",
       "</div>"
      ],
      "text/plain": [
       "   regiao         estado      municipio  coduf  codmun  codRegiaoSaude  \\\n",
       "0  Brasil  Não Informado  Não Informado     76    -1.0            -1.0   \n",
       "1  Brasil  Não Informado  Não Informado     76    -1.0            -1.0   \n",
       "2  Brasil  Não Informado  Não Informado     76    -1.0            -1.0   \n",
       "3  Brasil  Não Informado  Não Informado     76    -1.0            -1.0   \n",
       "4  Brasil  Não Informado  Não Informado     76    -1.0            -1.0   \n",
       "\n",
       "  nomeRegiaoSaude        data  semanaEpi  populacaoTCU2019  casosAcumulado  \\\n",
       "0   Não Informado  2022-01-01         52       210147125.0      22291507.0   \n",
       "1   Não Informado  2022-01-02          1       210147125.0      22293228.0   \n",
       "2   Não Informado  2022-01-03          1       210147125.0      22305078.0   \n",
       "3   Não Informado  2022-01-04          1       210147125.0      22323837.0   \n",
       "4   Não Informado  2022-01-05          1       210147125.0      22351104.0   \n",
       "\n",
       "   casosNovos  obitosAcumulado  obitosNovos  interior/metropolitana  \n",
       "0    0.115380         0.937884     0.389724                    -1.0  \n",
       "1    0.108574         0.937927     0.379544                    -1.0  \n",
       "2    0.139008         0.938042     0.402811                    -1.0  \n",
       "3    0.159767         0.938307     0.450800                    -1.0  \n",
       "4    0.185330         0.938502     0.428502                    -1.0  "
      ]
     },
     "execution_count": 83,
     "metadata": {},
     "output_type": "execute_result"
    }
   ],
   "source": [
    "cvd_2020_1 = min_max_norm(cvd_2020_1)\n",
    "cvd_2021_1 = min_max_norm(cvd_2021_1)\n",
    "cvd_2022_1 = min_max_norm(cvd_2022_1)\n",
    "cvd_2022_1.head()"
   ]
  },
  {
   "cell_type": "code",
   "execution_count": 84,
   "id": "a1cdf4e8",
   "metadata": {},
   "outputs": [
    {
     "data": {
      "text/plain": [
       "<AxesSubplot:>"
      ]
     },
     "execution_count": 84,
     "metadata": {},
     "output_type": "execute_result"
    },
    {
     "data": {
      "image/png": "[encoded data removed]",
      "text/plain": [
       "<Figure size 432x288 with 1 Axes>"
      ]
     },
     "metadata": {},
     "output_type": "display_data"
    }
   ],
   "source": [
    "sns.set_theme(style=\"whitegrid\")\n",
    "\n",
    "data = pd.DataFrame(data={'2020': cvd_2020_1['obitosNovos'].head(300),\n",
    "                          '2021': cvd_2021_1['obitosNovos'].head(300),\n",
    "                          '2022': cvd_2022_1['obitosNovos'].head(300)})\n",
    "sns.lineplot(data=data, palette=\"tab10\")"
   ]
  },
  {
   "cell_type": "markdown",
   "id": "399d4556",
   "metadata": {},
   "source": [
    "**Acima foi realizada a análise da variável 'obitosNovos' de todos os datasets relacionados aos primeiros 300 registros coletados de cada um, o que podemos perceber é que em relação as informações de 2020 a partir do registro 245 o valor se mantém constante, evidenciando em um primeiro momento uma constância nos óbitos, muito possivelmente a atuação ao combate contra a doença tenha relação com esse evento ou a falta de coleta de informações, em contrapartida, aproximadamente ao registro 100, os valores de óbito dos dados de 2022 se mantém constantes, possivelmente pelos mesmos motivos apresentados em 2020. Já os dados de 2022 acabam sempre convergindo para uma constância dos óbitos mapeados, apresentando um padrão em sua distribuição**"
   ]
  },
  {
   "cell_type": "code",
   "execution_count": 85,
   "id": "3c9dd8d9",
   "metadata": {},
   "outputs": [
    {
     "data": {
      "text/plain": [
       "<AxesSubplot:>"
      ]
     },
     "execution_count": 85,
     "metadata": {},
     "output_type": "execute_result"
    },
    {
     "data": {
      "image/png": "[encoded data removed]",
      "text/plain": [
       "<Figure size 432x288 with 1 Axes>"
      ]
     },
     "metadata": {},
     "output_type": "display_data"
    }
   ],
   "source": [
    "sns.set_theme(style=\"whitegrid\")\n",
    "\n",
    "data = pd.DataFrame(data={'2020': cvd_2020_1['casosNovos'].head(5000),\n",
    "                          '2021': cvd_2021_1['casosNovos'].head(5000),\n",
    "                          '2022': cvd_2022_1['casosNovos'].head(5000)})\n",
    "\n",
    "sns.lineplot(data=data, palette=\"tab10\")"
   ]
  },
  {
   "cell_type": "code",
   "execution_count": 86,
   "id": "91632acc",
   "metadata": {},
   "outputs": [],
   "source": [
    "cvd_2020_1['ano'] = '2020'\n",
    "cvd_2021_1['ano'] = '2021'\n",
    "cvd_2022_1['ano'] = '2022'\n",
    "\n",
    "result = pd.concat([cvd_2020_1,cvd_2021_1,cvd_2022_1])"
   ]
  },
  {
   "cell_type": "code",
   "execution_count": 87,
   "id": "409cad07",
   "metadata": {},
   "outputs": [
    {
     "data": {
      "image/png": "[encoded data removed]",
      "text/plain": [
       "<Figure size 432x288 with 1 Axes>"
      ]
     },
     "metadata": {},
     "output_type": "display_data"
    }
   ],
   "source": [
    "sns.set_theme(style=\"whitegrid\")\n",
    "ax = sns.barplot(x=\"interior/metropolitana\", y=\"casosNovos\", hue=\"ano\", data=result)"
   ]
  },
  {
   "cell_type": "markdown",
   "id": "b9a2ced2",
   "metadata": {},
   "source": [
    "**Aqui podemos perceber um maior acumulado dos casos novos de 2021 em relação aos outros anos, contudo, devemos considerar que o ano de 2021 possui mais ocorrência em seu dataset que os demais, justificando o acumulo intenso em sua barra**"
   ]
  },
  {
   "cell_type": "code",
   "execution_count": 98,
   "id": "d654b335",
   "metadata": {},
   "outputs": [
    {
     "data": {
      "image/png": "[encoded data removed]",
      "text/plain": [
       "<Figure size 1800x595.44 with 1 Axes>"
      ]
     },
     "metadata": {},
     "output_type": "display_data"
    }
   ],
   "source": [
    "sns.set(rc={'figure.figsize':(25.0,8.27)})\n",
    "ax = sns.barplot(x=\"estado\", y=\"casosNovos\", hue=\"ano\", data=result, orient='v')\n",
    "ax.tick_params(axis='x', rotation=90)"
   ]
  },
  {
   "cell_type": "markdown",
   "id": "aaf5cd81",
   "metadata": {},
   "source": [
    "**Com base nos resultados do primeiro gráfico o eixo X que antes era se o dados pertencia a capitais ou cidades do interior, foi substituído pelo estado para podermos ter uma análise mais granular por região**"
   ]
  },
  {
   "cell_type": "code",
   "execution_count": null,
   "id": "ce737176",
   "metadata": {},
   "outputs": [],
   "source": []
  }
 ],
 "metadata": {
  "kernelspec": {
   "display_name": "Python 3 (ipykernel)",
   "language": "python",
   "name": "python3"
  },
  "language_info": {
   "codemirror_mode": {
    "name": "ipython",
    "version": 3
   },
   "file_extension": ".py",
   "mimetype": "text/x-python",
   "name": "python",
   "nbconvert_exporter": "python",
   "pygments_lexer": "ipython3",
   "version": "3.9.7"
  }
 },
 "nbformat": 4,
 "nbformat_minor": 5
}
